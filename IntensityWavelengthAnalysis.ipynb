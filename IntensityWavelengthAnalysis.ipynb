{
 "cells": [
  {
   "cell_type": "markdown",
   "id": "4e931914-3e9f-42b9-9db6-3b9d7ad3c2d0",
   "metadata": {},
   "source": [
    "## Testing How to Get Intensity and Wavelength from Webcam Spectra Images"
   ]
  },
  {
   "cell_type": "markdown",
   "id": "8c1b50de-777e-4735-8b22-8b94b1392f8d",
   "metadata": {},
   "source": [
    "### Sources for help: \n",
    "#### - https://www.mathworks.com/matlabcentral/answers/1901170-how-to-plot-intensity-vs-wavelength-of-an-image\n",
    "    "
   ]
  },
  {
   "cell_type": "code",
   "execution_count": null,
   "id": "ec0246eb-124a-4279-bb0d-a64127132d66",
   "metadata": {},
   "outputs": [],
   "source": []
  }
 ],
 "metadata": {
  "kernelspec": {
   "display_name": "Python 3 (ipykernel)",
   "language": "python",
   "name": "python3"
  },
  "language_info": {
   "codemirror_mode": {
    "name": "ipython",
    "version": 3
   },
   "file_extension": ".py",
   "mimetype": "text/x-python",
   "name": "python",
   "nbconvert_exporter": "python",
   "pygments_lexer": "ipython3",
   "version": "3.9.13"
  }
 },
 "nbformat": 4,
 "nbformat_minor": 5
}
