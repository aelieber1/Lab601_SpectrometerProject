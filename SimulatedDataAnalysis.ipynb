{
 "cells": [
  {
   "cell_type": "code",
   "execution_count": 2,
   "id": "ec129f70-66b7-4228-b762-b4bbc0ead210",
   "metadata": {},
   "outputs": [],
   "source": [
    "# import necessary libraries/packages\n",
    "import numpy as np\n",
    "import matplotlib.pyplot as plt\n",
    "import ipympl\n",
    "import imageio.v3 as iio\n",
    "import skimage\n",
    "\n",
    "#display images with pixel info\n",
    "%matplotlib widget \n",
    "\n",
    "#plot images within Jupyter notebook\n",
    "%matplotlib inline "
   ]
  },
  {
   "cell_type": "code",
   "execution_count": 3,
   "id": "70bd3d1a-e572-407a-a6e0-f13303bed5c9",
   "metadata": {},
   "outputs": [],
   "source": [
    "img_path = \"/Users/ashleylieber/Downloads/0_16.png\""
   ]
  },
  {
   "cell_type": "code",
   "execution_count": 4,
   "id": "97b20a0c-88d1-4395-95bb-35dd45c133c0",
   "metadata": {},
   "outputs": [
    {
     "name": "stdout",
     "output_type": "stream",
     "text": [
      "[[[0.627451   0.627451   0.627451   1.        ]\n",
      "  [0.627451   0.627451   0.627451   1.        ]\n",
      "  [0.627451   0.627451   0.627451   1.        ]\n",
      "  ...\n",
      "  [0.627451   0.627451   0.627451   1.        ]\n",
      "  [0.627451   0.627451   0.627451   1.        ]\n",
      "  [1.         1.         1.         1.        ]]\n",
      "\n",
      " [[0.627451   0.627451   0.627451   1.        ]\n",
      "  [0.4117647  0.4117647  0.4117647  1.        ]\n",
      "  [0.4117647  0.4117647  0.4117647  1.        ]\n",
      "  ...\n",
      "  [0.4117647  0.4117647  0.4117647  1.        ]\n",
      "  [0.8901961  0.8901961  0.8901961  1.        ]\n",
      "  [1.         1.         1.         1.        ]]\n",
      "\n",
      " [[0.627451   0.627451   0.627451   1.        ]\n",
      "  [0.4117647  0.4117647  0.4117647  1.        ]\n",
      "  [0.         0.01568628 0.04705882 1.        ]\n",
      "  ...\n",
      "  [0.00392157 0.01568628 0.01568628 1.        ]\n",
      "  [0.8901961  0.8901961  0.8901961  1.        ]\n",
      "  [1.         1.         1.         1.        ]]\n",
      "\n",
      " ...\n",
      "\n",
      " [[0.627451   0.627451   0.627451   1.        ]\n",
      "  [0.4117647  0.4117647  0.4117647  1.        ]\n",
      "  [0.         0.02352941 0.00392157 1.        ]\n",
      "  ...\n",
      "  [0.         0.01568628 0.01176471 1.        ]\n",
      "  [0.8901961  0.8901961  0.8901961  1.        ]\n",
      "  [1.         1.         1.         1.        ]]\n",
      "\n",
      " [[0.627451   0.627451   0.627451   1.        ]\n",
      "  [0.8901961  0.8901961  0.8901961  1.        ]\n",
      "  [0.8901961  0.8901961  0.8901961  1.        ]\n",
      "  ...\n",
      "  [0.8901961  0.8901961  0.8901961  1.        ]\n",
      "  [0.8901961  0.8901961  0.8901961  1.        ]\n",
      "  [1.         1.         1.         1.        ]]\n",
      "\n",
      " [[1.         1.         1.         1.        ]\n",
      "  [1.         1.         1.         1.        ]\n",
      "  [1.         1.         1.         1.        ]\n",
      "  ...\n",
      "  [1.         1.         1.         1.        ]\n",
      "  [1.         1.         1.         1.        ]\n",
      "  [1.         1.         1.         1.        ]]]\n",
      "[[[  0  35   0]\n",
      "  [  0  45  33]\n",
      "  [  2 200   0]]\n",
      "\n",
      " [[  0 200  45]\n",
      "  [  0   0  23]\n",
      "  [ 22   0  55]]]\n"
     ]
    },
    {
     "data": {
      "text/plain": [
       "<matplotlib.image.AxesImage at 0x7f85690cd100>"
      ]
     },
     "execution_count": 4,
     "metadata": {},
     "output_type": "execute_result"
    },
    {
     "data": {
      "image/png": "[encoded data removed]",
      "text/plain": [
       "<Figure size 640x480 with 1 Axes>"
      ]
     },
     "metadata": {},
     "output_type": "display_data"
    }
   ],
   "source": [
    "\"\"\" \n",
    "Each row represents the specific pixel color, we can actually call each of \n",
    "the numbers individually. The numbers can then give us a representation of the \n",
    "image’s Red, Green, and Blue components. \n",
    "\"\"\"\n",
    "img = plt.imread(img_path)\n",
    "print(img)\n",
    "\n",
    "\n",
    "sim_test = np.array([[[0,35,0],[0,45,33],[2,200,0]],[[0,200,45],[0,0,23],[22,0,55]]])\n",
    "print(sim_test)\n",
    "plt.imshow(sim_test)"
   ]
  },
  {
   "cell_type": "code",
   "execution_count": 23,
   "id": "abf00dc1-0b58-4ec0-8bc7-4dfc5efbe7c7",
   "metadata": {},
   "outputs": [
    {
     "data": {
      "text/plain": [
       "(array([16.,  0.,  0.,  0.,  0.,  0.,  0.,  0.,  0.,  0.,  0.,  0.,  0.,\n",
       "         0.,  0.,  0.,  0.,  0.,  0.,  0.,  0.,  0.,  0.,  0.,  0.,  0.,\n",
       "         0.,  0.,  0.,  0.,  0.,  0.,  0.,  0.,  0.,  0.,  0.,  0.,  0.,\n",
       "         0.,  0.,  0.,  0.,  0.,  0.,  0.,  0.,  0.,  0.,  0.,  0.,  0.,\n",
       "         0.,  0.,  0.,  0.,  0.,  0.,  0.,  0.,  0.,  0.,  0.,  0.,  0.,\n",
       "         0.,  0.,  0.,  0.,  0.,  0.,  0.,  0.,  0.,  0.,  0.,  0.,  0.,\n",
       "         0.,  0.,  0.,  0.,  0.,  0.,  0.,  0.,  0.,  0.,  0.,  0.,  0.,\n",
       "         0.,  0.,  0.,  0.,  0.,  0.,  0.,  0.,  0.,  0.,  0.,  0.,  0.,\n",
       "         0.,  0.,  0.,  0.,  0.,  0.,  0.,  0.,  0.,  0.,  0.,  0.,  0.,\n",
       "         0.,  0.,  0.,  0.,  0.,  0.,  0.,  0.,  0.,  0.,  0.,  0.,  0.,\n",
       "         0.,  0.,  0.,  0.,  0.,  0.,  0.,  0.,  0.,  0.,  0.,  0.,  0.,\n",
       "         0.,  0.,  0.,  0.,  0.,  0.,  0.,  0.,  0.,  0.,  0.,  0.,  0.,\n",
       "         0.,  0.,  0.,  0.,  0.,  0.,  0.,  0.,  0.,  0.,  0.,  0.,  0.,\n",
       "         0.,  0.,  0.,  0.,  0.,  0.,  0.,  0.,  0.,  0.,  0.,  0.,  0.,\n",
       "         0.,  0.,  0.,  0.,  0.,  0.,  0.,  0.,  0.,  0.,  0.,  0.,  0.,\n",
       "         0.,  0.,  0.,  0.,  0.,  0.,  0.,  0.,  0.,  0.,  0.,  0.,  0.,\n",
       "         0.,  0.,  0.,  0.,  0.,  0.,  0.,  0.,  0.,  0.,  0.,  0.,  0.,\n",
       "         0.,  0.,  0.,  0.,  0.,  0.,  0.,  0.,  0.,  0.,  0.,  0.,  0.,\n",
       "         0.,  0.,  0.,  0.,  0.,  0.,  0.,  0.,  0.,  0.,  0.,  0.,  0.,\n",
       "         0.,  0.,  0.,  0.,  0.,  0.,  0.,  0.,  0.]),\n",
       " array([0.        , 0.00390625, 0.0078125 , 0.01171875, 0.015625  ,\n",
       "        0.01953125, 0.0234375 , 0.02734375, 0.03125   , 0.03515625,\n",
       "        0.0390625 , 0.04296875, 0.046875  , 0.05078125, 0.0546875 ,\n",
       "        0.05859375, 0.0625    , 0.06640625, 0.0703125 , 0.07421875,\n",
       "        0.078125  , 0.08203125, 0.0859375 , 0.08984375, 0.09375   ,\n",
       "        0.09765625, 0.1015625 , 0.10546875, 0.109375  , 0.11328125,\n",
       "        0.1171875 , 0.12109375, 0.125     , 0.12890625, 0.1328125 ,\n",
       "        0.13671875, 0.140625  , 0.14453125, 0.1484375 , 0.15234375,\n",
       "        0.15625   , 0.16015625, 0.1640625 , 0.16796875, 0.171875  ,\n",
       "        0.17578125, 0.1796875 , 0.18359375, 0.1875    , 0.19140625,\n",
       "        0.1953125 , 0.19921875, 0.203125  , 0.20703125, 0.2109375 ,\n",
       "        0.21484375, 0.21875   , 0.22265625, 0.2265625 , 0.23046875,\n",
       "        0.234375  , 0.23828125, 0.2421875 , 0.24609375, 0.25      ,\n",
       "        0.25390625, 0.2578125 , 0.26171875, 0.265625  , 0.26953125,\n",
       "        0.2734375 , 0.27734375, 0.28125   , 0.28515625, 0.2890625 ,\n",
       "        0.29296875, 0.296875  , 0.30078125, 0.3046875 , 0.30859375,\n",
       "        0.3125    , 0.31640625, 0.3203125 , 0.32421875, 0.328125  ,\n",
       "        0.33203125, 0.3359375 , 0.33984375, 0.34375   , 0.34765625,\n",
       "        0.3515625 , 0.35546875, 0.359375  , 0.36328125, 0.3671875 ,\n",
       "        0.37109375, 0.375     , 0.37890625, 0.3828125 , 0.38671875,\n",
       "        0.390625  , 0.39453125, 0.3984375 , 0.40234375, 0.40625   ,\n",
       "        0.41015625, 0.4140625 , 0.41796875, 0.421875  , 0.42578125,\n",
       "        0.4296875 , 0.43359375, 0.4375    , 0.44140625, 0.4453125 ,\n",
       "        0.44921875, 0.453125  , 0.45703125, 0.4609375 , 0.46484375,\n",
       "        0.46875   , 0.47265625, 0.4765625 , 0.48046875, 0.484375  ,\n",
       "        0.48828125, 0.4921875 , 0.49609375, 0.5       , 0.50390625,\n",
       "        0.5078125 , 0.51171875, 0.515625  , 0.51953125, 0.5234375 ,\n",
       "        0.52734375, 0.53125   , 0.53515625, 0.5390625 , 0.54296875,\n",
       "        0.546875  , 0.55078125, 0.5546875 , 0.55859375, 0.5625    ,\n",
       "        0.56640625, 0.5703125 , 0.57421875, 0.578125  , 0.58203125,\n",
       "        0.5859375 , 0.58984375, 0.59375   , 0.59765625, 0.6015625 ,\n",
       "        0.60546875, 0.609375  , 0.61328125, 0.6171875 , 0.62109375,\n",
       "        0.625     , 0.62890625, 0.6328125 , 0.63671875, 0.640625  ,\n",
       "        0.64453125, 0.6484375 , 0.65234375, 0.65625   , 0.66015625,\n",
       "        0.6640625 , 0.66796875, 0.671875  , 0.67578125, 0.6796875 ,\n",
       "        0.68359375, 0.6875    , 0.69140625, 0.6953125 , 0.69921875,\n",
       "        0.703125  , 0.70703125, 0.7109375 , 0.71484375, 0.71875   ,\n",
       "        0.72265625, 0.7265625 , 0.73046875, 0.734375  , 0.73828125,\n",
       "        0.7421875 , 0.74609375, 0.75      , 0.75390625, 0.7578125 ,\n",
       "        0.76171875, 0.765625  , 0.76953125, 0.7734375 , 0.77734375,\n",
       "        0.78125   , 0.78515625, 0.7890625 , 0.79296875, 0.796875  ,\n",
       "        0.80078125, 0.8046875 , 0.80859375, 0.8125    , 0.81640625,\n",
       "        0.8203125 , 0.82421875, 0.828125  , 0.83203125, 0.8359375 ,\n",
       "        0.83984375, 0.84375   , 0.84765625, 0.8515625 , 0.85546875,\n",
       "        0.859375  , 0.86328125, 0.8671875 , 0.87109375, 0.875     ,\n",
       "        0.87890625, 0.8828125 , 0.88671875, 0.890625  , 0.89453125,\n",
       "        0.8984375 , 0.90234375, 0.90625   , 0.91015625, 0.9140625 ,\n",
       "        0.91796875, 0.921875  , 0.92578125, 0.9296875 , 0.93359375,\n",
       "        0.9375    , 0.94140625, 0.9453125 , 0.94921875, 0.953125  ,\n",
       "        0.95703125, 0.9609375 , 0.96484375, 0.96875   , 0.97265625,\n",
       "        0.9765625 , 0.98046875, 0.984375  , 0.98828125, 0.9921875 ,\n",
       "        0.99609375, 1.        ]),\n",
       " <BarContainer object of 256 artists>)"
      ]
     },
     "execution_count": 33,
     "metadata": {},
     "output_type": "execute_result"
    },
    {
     "data": {
      "image/png": "[encoded data removed]",
      "text/plain": [
       "<Figure size 640x480 with 1 Axes>"
      ]
     },
     "metadata": {},
     "output_type": "display_data"
    }
   ],
   "source": [
    "plt.hist(sim_test.ravel(), bins=256, range=(0.0, 1.0), fc='k', ec='k') #calculating histogram"
   ]
  },
  {
   "cell_type": "code",
   "execution_count": 49,
   "id": "9601e028-1864-43d6-8cdf-46294daae738",
   "metadata": {},
   "outputs": [
    {
     "name": "stdout",
     "output_type": "stream",
     "text": [
      "[[[  0   0   0]\n",
      "  [  0   0   0]\n",
      "  [  0   0   0]\n",
      "  [  0   0   0]\n",
      "  [  0   0   0]\n",
      "  [  0   0   0]\n",
      "  [  0   0   0]]\n",
      "\n",
      " [[  0   0   0]\n",
      "  [  0   0   0]\n",
      "  [  0   0 200]\n",
      "  [  0 100   0]\n",
      "  [ 50   0   0]\n",
      "  [  0   0   0]\n",
      "  [  0   0   0]]\n",
      "\n",
      " [[  0   0   0]\n",
      "  [  0   0   0]\n",
      "  [  0   0   0]\n",
      "  [  0   0   0]\n",
      "  [  0   0   0]\n",
      "  [  0   0   0]\n",
      "  [  0   0   0]]]\n"
     ]
    },
    {
     "data": {
      "text/plain": [
       "<matplotlib.image.AxesImage at 0x7fe138249280>"
      ]
     },
     "execution_count": 49,
     "metadata": {},
     "output_type": "execute_result"
    },
    {
     "data": {
      "image/png": "[encoded data removed]",
      "text/plain": [
       "<Figure size 640x480 with 1 Axes>"
      ]
     },
     "metadata": {},
     "output_type": "display_data"
    }
   ],
   "source": [
    "# Test continuous spectrum\n",
    "sim_test_spec = np.array([[[0,0,0],[0,0,0],[0,0,200],[0,100,0],[50,0,0],[0,0,0],[0,0,0]]])\n",
    "\n",
    "sim_test_spec = np.array([\n",
    "                         [[0,0,0],[0,0,0],[0,0,0],[0,0,0],[0,0,0],[0,0,0],[0,0,0]],\n",
    "                         [[0,0,0],[0,0,0],[0,0,200],[0,100,0],[50,0,0],[0,0,0],[0,0,0]],\n",
    "                         [[0,0,0],[0,0,0],[0,0,0],[0,0,0],[0,0,0],[0,0,0],[0,0,0]]])\n",
    "\n",
    "print(sim_test_spec)\n",
    "\n",
    "plt.imshow(sim_test_spec)"
   ]
  },
  {
   "cell_type": "code",
   "execution_count": 1,
   "id": "8be0f821-6759-44fe-bedb-32beffd9165a",
   "metadata": {},
   "outputs": [
    {
     "ename": "NameError",
     "evalue": "name 'np' is not defined",
     "output_type": "error",
     "traceback": [
      "\u001b[0;31m---------------------------------------------------------------------------\u001b[0m",
      "\u001b[0;31mNameError\u001b[0m                                 Traceback (most recent call last)",
      "\u001b[0;32m/var/folders/m_/6w36s5f17kl3wrv42q59syqr0000gq/T/ipykernel_57898/2251753560.py\u001b[0m in \u001b[0;36m<module>\u001b[0;34m\u001b[0m\n\u001b[0;32m----> 1\u001b[0;31m \u001b[0msim_test\u001b[0m \u001b[0;34m=\u001b[0m \u001b[0mnp\u001b[0m\u001b[0;34m.\u001b[0m\u001b[0marray\u001b[0m\u001b[0;34m(\u001b[0m\u001b[0;34m[\u001b[0m\u001b[0;34m[\u001b[0m\u001b[0;34m[\u001b[0m\u001b[0;36m0\u001b[0m\u001b[0;34m,\u001b[0m\u001b[0;36m0\u001b[0m\u001b[0;34m,\u001b[0m\u001b[0;36m0\u001b[0m\u001b[0;34m]\u001b[0m\u001b[0;34m]\u001b[0m\u001b[0;34m]\u001b[0m\u001b[0;34m)\u001b[0m\u001b[0;34m\u001b[0m\u001b[0;34m\u001b[0m\u001b[0m\n\u001b[0m\u001b[1;32m      2\u001b[0m \u001b[0mprint\u001b[0m\u001b[0;34m(\u001b[0m\u001b[0msim_test\u001b[0m\u001b[0;34m)\u001b[0m\u001b[0;34m\u001b[0m\u001b[0;34m\u001b[0m\u001b[0m\n\u001b[1;32m      3\u001b[0m \u001b[0mplt\u001b[0m\u001b[0;34m.\u001b[0m\u001b[0mimshow\u001b[0m\u001b[0;34m(\u001b[0m\u001b[0msim_test\u001b[0m\u001b[0;34m)\u001b[0m\u001b[0;34m\u001b[0m\u001b[0;34m\u001b[0m\u001b[0m\n",
      "\u001b[0;31mNameError\u001b[0m: name 'np' is not defined"
     ]
    }
   ],
   "source": [
    "sim_test = np.array([[[0,0,0]]])\n",
    "print(sim_test)\n",
    "plt.imshow(sim_test)"
   ]
  },
  {
   "cell_type": "code",
   "execution_count": 3,
   "id": "97be52e9-b71b-4e82-ac52-3231b7b9e96c",
   "metadata": {},
   "outputs": [
    {
     "name": "stdout",
     "output_type": "stream",
     "text": [
      "[[[255   0   0]\n",
      "  [128   0   0]\n",
      "  [ 64   0   0]]\n",
      "\n",
      " [[  0 200  45]\n",
      "  [  0   0  23]\n",
      "  [ 22   0  55]]]\n"
     ]
    },
    {
     "data": {
      "text/plain": [
       "<matplotlib.image.AxesImage at 0x7fcfc11aed30>"
      ]
     },
     "execution_count": 3,
     "metadata": {},
     "output_type": "execute_result"
    },
    {
     "data": {
      "image/png": "[encoded data removed]",
      "text/plain": [
       "<Figure size 640x480 with 1 Axes>"
      ]
     },
     "metadata": {},
     "output_type": "display_data"
    }
   ],
   "source": [
    "sim_test = np.array([[[255,0,0],[128,0,0],[64,0,0]],[[0,200,45],[0,0,23],[22,0,55]]])\n",
    "print(sim_test)\n",
    "plt.imshow(sim_test)"
   ]
  },
  {
   "cell_type": "code",
   "execution_count": null,
   "id": "849bb293-2a18-4517-acb0-a397b95b89aa",
   "metadata": {},
   "outputs": [],
   "source": []
  }
 ],
 "metadata": {
  "kernelspec": {
   "display_name": "Python 3 (ipykernel)",
   "language": "python",
   "name": "python3"
  },
  "language_info": {
   "codemirror_mode": {
    "name": "ipython",
    "version": 3
   },
   "file_extension": ".py",
   "mimetype": "text/x-python",
   "name": "python",
   "nbconvert_exporter": "python",
   "pygments_lexer": "ipython3",
   "version": "3.9.13"
  }
 },
 "nbformat": 4,
 "nbformat_minor": 5
}
